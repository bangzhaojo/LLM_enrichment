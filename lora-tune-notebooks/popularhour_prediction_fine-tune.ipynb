{
 "cells": [
  {
   "cell_type": "code",
   "execution_count": 2,
   "id": "6b306e32-6ad2-48be-827e-666a1e243450",
   "metadata": {},
   "outputs": [
    {
     "data": {
      "text/plain": [
       "'cuda:0'"
      ]
     },
     "execution_count": 2,
     "metadata": {},
     "output_type": "execute_result"
    }
   ],
   "source": [
    "import os\n",
    "os.environ[\"CUDA_DEVICE_ORDER\"] = \"PCI_BUS_ID\"\n",
    "os.environ[\"CUDA_VISIBLE_DEVICES\"] = \"0\"\n",
    "\n",
    "import transformers\n",
    "import textwrap\n",
    "from transformers import LlamaTokenizer, LlamaForCausalLM\n",
    "import os\n",
    "import sys\n",
    "from typing import List\n",
    "\n",
    "from peft import (\n",
    "    LoraConfig,\n",
    "    get_peft_model,\n",
    "    get_peft_model_state_dict,\n",
    "    prepare_model_for_int8_training,\n",
    "    PeftConfig,\n",
    "    \n",
    ")\n",
    "\n",
    "import fire\n",
    "import torch\n",
    "from datasets import load_dataset\n",
    "import pandas as pd\n",
    "\n",
    "import matplotlib.pyplot as plt\n",
    "import matplotlib as mpl\n",
    "import seaborn as sns\n",
    "from pylab import rcParams\n",
    "\n",
    "from transformers.generation.utils import GreedySearchDecoderOnlyOutput\n",
    "from peft import PeftModel\n",
    "from transformers import GenerationConfig\n",
    "\n",
    "import json\n",
    "\n",
    "import warnings\n",
    "\n",
    "# Ignore all warnings\n",
    "warnings.filterwarnings('ignore')\n",
    "\n",
    "\n",
    "%matplotlib inline\n",
    "sns.set(rc={'figure.figsize':(10, 7)})\n",
    "sns.set(rc={'figure.dpi':100})\n",
    "sns.set(style='white', palette='muted', font_scale=1.2)\n",
    "\n",
    "#DEVICE = \"cuda\" if torch.cuda.is_available() else \"cpu\"\n",
    "DEVICE='cuda:0'\n",
    "torch.cuda.set_device(0)\n",
    "DEVICE"
   ]
  },
  {
   "cell_type": "markdown",
   "id": "310fb48c-aa82-4a99-8fb6-8dd9b57a7983",
   "metadata": {},
   "source": [
    "## Load model"
   ]
  },
  {
   "cell_type": "code",
   "execution_count": 3,
   "id": "93378846-7821-404c-8370-0dfc3aced4fc",
   "metadata": {},
   "outputs": [
    {
     "data": {
      "application/vnd.jupyter.widget-view+json": {
       "model_id": "37548ec0a4754b67a9cad9e69590feb1",
       "version_major": 2,
       "version_minor": 0
      },
      "text/plain": [
       "Loading checkpoint shards:   0%|          | 0/2 [00:00<?, ?it/s]"
      ]
     },
     "metadata": {},
     "output_type": "display_data"
    }
   ],
   "source": [
    "BASE_MODEL = \"model/llama2-7B-hf\"\n",
    "model = LlamaForCausalLM.from_pretrained(\n",
    "    BASE_MODEL,\n",
    "    load_in_8bit=True,\n",
    "    torch_dtype=torch.float16,\n",
    "    device_map={'': 0}\n",
    "    #device_map=\"auto\",\n",
    ")\n",
    "\n",
    "tokenizer = LlamaTokenizer.from_pretrained(BASE_MODEL)\n",
    "\n",
    "tokenizer.pad_token_id = (\n",
    "    0  # unk. we want this to be different from the eos token\n",
    ")\n",
    "tokenizer.padding_side = \"left\""
   ]
  },
  {
   "cell_type": "code",
   "execution_count": 11,
   "id": "c4654906-9bf6-447d-a396-268f80fb1561",
   "metadata": {},
   "outputs": [
    {
     "data": {
      "application/vnd.jupyter.widget-view+json": {
       "model_id": "2a14bc921c76434aaa61785fd91423a9",
       "version_major": 2,
       "version_minor": 0
      },
      "text/plain": [
       "Loading checkpoint shards:   0%|          | 0/2 [00:00<?, ?it/s]"
      ]
     },
     "metadata": {},
     "output_type": "display_data"
    }
   ],
   "source": [
    "# BASE_MODEL = \"model/llama2-7B-hf\"\n",
    "# LORA_WEIGHTS = \"model/popular_hour_lr7e-5\"\n",
    "\n",
    "# model = LlamaForCausalLM.from_pretrained(\n",
    "#     BASE_MODEL,\n",
    "#     load_in_8bit=True,\n",
    "#     torch_dtype=torch.float16,\n",
    "#     device_map={'': 0},\n",
    "#     local_files_only=True,\n",
    "# )\n",
    "\n",
    "# tokenizer = LlamaTokenizer.from_pretrained(BASE_MODEL)\n",
    "\n",
    "# tokenizer.pad_token_id = (\n",
    "#     0  # unk. we want this to be different from the eos token\n",
    "# )\n",
    "# tokenizer.padding_side = \"left\"\n",
    "\n",
    "# model = PeftModel.from_pretrained(model, LORA_WEIGHTS, torch_dtype=torch.float16, device_map={'': 0})"
   ]
  },
  {
   "cell_type": "markdown",
   "id": "8d4bb162-5dd0-424a-aa10-754caf38d8e6",
   "metadata": {},
   "source": [
    "### Generate Prompt"
   ]
  },
  {
   "cell_type": "code",
   "execution_count": 4,
   "id": "763e58b4-9ab4-4e40-92c5-7d5811410183",
   "metadata": {},
   "outputs": [
    {
     "name": "stderr",
     "output_type": "stream",
     "text": [
      "Found cached dataset json (/home/bangzhao/.cache/huggingface/datasets/json/default-2f52a3215ac47957/0.0.0/0f7e3662623656454fcd2b650f34e886a7db4b9104504885bd462096cc7a9f51)\n"
     ]
    },
    {
     "data": {
      "application/vnd.jupyter.widget-view+json": {
       "model_id": "898d0fa8179a40dcb4c1fce3218dd0c0",
       "version_major": 2,
       "version_minor": 0
      },
      "text/plain": [
       "  0%|          | 0/1 [00:00<?, ?it/s]"
      ]
     },
     "metadata": {},
     "output_type": "display_data"
    },
    {
     "name": "stderr",
     "output_type": "stream",
     "text": [
      "Loading cached split indices for dataset at /home/bangzhao/.cache/huggingface/datasets/json/default-2f52a3215ac47957/0.0.0/0f7e3662623656454fcd2b650f34e886a7db4b9104504885bd462096cc7a9f51/cache-055101443ff61882.arrow and /home/bangzhao/.cache/huggingface/datasets/json/default-2f52a3215ac47957/0.0.0/0f7e3662623656454fcd2b650f34e886a7db4b9104504885bd462096cc7a9f51/cache-14c98878887f1ab5.arrow\n",
      "Loading cached processed dataset at /home/bangzhao/.cache/huggingface/datasets/json/default-2f52a3215ac47957/0.0.0/0f7e3662623656454fcd2b650f34e886a7db4b9104504885bd462096cc7a9f51/cache-f2bb471707c5a906.arrow\n",
      "Loading cached processed dataset at /home/bangzhao/.cache/huggingface/datasets/json/default-2f52a3215ac47957/0.0.0/0f7e3662623656454fcd2b650f34e886a7db4b9104504885bd462096cc7a9f51/cache-695645c13f7fc956.arrow\n"
     ]
    }
   ],
   "source": [
    "def generate_prompt(data_point):\n",
    "    return f\"\"\"Below is an instruction that describes a task, paired with an input that provides further context. Write a response that appropriately completes the request.  # noqa: E501\n",
    "### Instruction:\n",
    "{data_point[\"instruction\"]}\n",
    "### Input:\n",
    "{data_point[\"input\"]}\n",
    "### Response:\n",
    "{data_point[\"output\"]}\"\"\"\n",
    "\n",
    "\n",
    "def tokenize(prompt, add_eos_token=True):\n",
    "    result = tokenizer(\n",
    "        prompt,\n",
    "        truncation=True,\n",
    "        max_length=CUTOFF_LEN,\n",
    "        padding=False,\n",
    "        return_tensors=None,\n",
    "    )\n",
    "    if (\n",
    "        result[\"input_ids\"][-1] != tokenizer.eos_token_id\n",
    "        and len(result[\"input_ids\"]) < CUTOFF_LEN\n",
    "        and add_eos_token\n",
    "    ):\n",
    "        result[\"input_ids\"].append(tokenizer.eos_token_id)\n",
    "        result[\"attention_mask\"].append(1)\n",
    "\n",
    "    result[\"labels\"] = result[\"input_ids\"].copy()\n",
    "\n",
    "    return result\n",
    "\n",
    "def generate_and_tokenize_prompt(data_point):\n",
    "    full_prompt = generate_prompt(data_point)\n",
    "    tokenized_full_prompt = tokenize(full_prompt)\n",
    "    return tokenized_full_prompt\n",
    "\n",
    "data = load_dataset(\"json\", data_files=\"../data/alpaca-api-enrichment-popularhour-dataset.json\")\n",
    "CUTOFF_LEN=2048\n",
    "train_val = data[\"train\"].train_test_split(\n",
    "    test_size=0.25, shuffle=True, seed=42\n",
    ")\n",
    "train_data = (\n",
    "    train_val[\"train\"].map(generate_and_tokenize_prompt)\n",
    ")\n",
    "val_data = (\n",
    "    train_val[\"test\"].map(generate_and_tokenize_prompt)\n",
    ")"
   ]
  },
  {
   "cell_type": "markdown",
   "id": "e4f2240b-05f8-4355-8c7c-7394a3d7e808",
   "metadata": {},
   "source": [
    "## Training"
   ]
  },
  {
   "cell_type": "code",
   "execution_count": 5,
   "id": "605bb0b2-0f3b-4036-bdc8-4f80d2da42c9",
   "metadata": {},
   "outputs": [],
   "source": [
    "LORA_R = 8 # attention head\n",
    "LORA_ALPHA = 16 # alpha scaling\n",
    "LORA_DROPOUT= 0.05\n",
    "LORA_TARGET_MODULES = [\n",
    "    \"q_proj\",\n",
    "    \"v_proj\",\n",
    "]\n",
    "\n",
    "# BATCH_SIZE = 128\n",
    "MICRO_BATCH_SIZE = 16\n",
    "LEARNING_RATE = 7e-5\n",
    "OUTPUT_DIR = \"model/popular_hour_lr7e-5\""
   ]
  },
  {
   "cell_type": "code",
   "execution_count": 6,
   "id": "43c3e388-8600-4b93-9050-e52e8d1e50c4",
   "metadata": {},
   "outputs": [
    {
     "name": "stdout",
     "output_type": "stream",
     "text": [
      "trainable params: 4,194,304 || all params: 6,742,609,920 || trainable%: 0.06220594176090199\n"
     ]
    }
   ],
   "source": [
    "model = prepare_model_for_int8_training(model)\n",
    "config = LoraConfig(\n",
    "    r=LORA_R,\n",
    "    lora_alpha=LORA_ALPHA,\n",
    "    target_modules=LORA_TARGET_MODULES,\n",
    "    lora_dropout=LORA_DROPOUT,\n",
    "    bias=\"none\",\n",
    "    task_type=\"CAUSAL_LM\",\n",
    ")\n",
    "model = get_peft_model(model, config)\n",
    "model.print_trainable_parameters()"
   ]
  },
  {
   "cell_type": "code",
   "execution_count": 7,
   "id": "150ef7d5-e609-489d-af38-e4c43b19b67c",
   "metadata": {},
   "outputs": [],
   "source": [
    "training_arguments = transformers.TrainingArguments(\n",
    "    per_device_train_batch_size=MICRO_BATCH_SIZE,\n",
    "    per_device_eval_batch_size=MICRO_BATCH_SIZE,\n",
    "    learning_rate=LEARNING_RATE,\n",
    "    save_strategy='epoch',\n",
    "    evaluation_strategy='epoch',\n",
    "    num_train_epochs=10,\n",
    "    logging_steps = int(len(train_val['train']) / MICRO_BATCH_SIZE),\n",
    "    \n",
    "    do_eval=True,\n",
    "    fp16=True,\n",
    "    optim=\"adamw_torch\",\n",
    "    output_dir=OUTPUT_DIR,\n",
    "    load_best_model_at_end=True,\n",
    "    \n",
    "    #evaluation_strategy=\"steps\",\n",
    "    #save_strategy=\"steps\",\n",
    "    #max_steps= 80,\n",
    "    #eval_steps=20,\n",
    "    #save_steps=20\n",
    ")"
   ]
  },
  {
   "cell_type": "code",
   "execution_count": 8,
   "id": "d060e0e4-3b95-4af1-b737-00154f5bc60d",
   "metadata": {},
   "outputs": [],
   "source": [
    "data_collator = transformers.DataCollatorForSeq2Seq(\n",
    "    tokenizer, pad_to_multiple_of=8, return_tensors=\"pt\", padding=True\n",
    ")"
   ]
  },
  {
   "cell_type": "code",
   "execution_count": 9,
   "id": "9a63265b-8ba9-4f79-8d0f-aa320ab1d578",
   "metadata": {},
   "outputs": [
    {
     "data": {
      "text/html": [
       "\n",
       "    <div>\n",
       "      \n",
       "      <progress value='1710' max='1710' style='width:300px; height:20px; vertical-align: middle;'></progress>\n",
       "      [1710/1710 1:48:16, Epoch 10/10]\n",
       "    </div>\n",
       "    <table border=\"1\" class=\"dataframe\">\n",
       "  <thead>\n",
       " <tr style=\"text-align: left;\">\n",
       "      <th>Epoch</th>\n",
       "      <th>Training Loss</th>\n",
       "      <th>Validation Loss</th>\n",
       "    </tr>\n",
       "  </thead>\n",
       "  <tbody>\n",
       "    <tr>\n",
       "      <td>9</td>\n",
       "      <td>0.639200</td>\n",
       "      <td>0.655149</td>\n",
       "    </tr>\n",
       "    <tr>\n",
       "      <td>10</td>\n",
       "      <td>0.636700</td>\n",
       "      <td>0.654468</td>\n",
       "    </tr>\n",
       "  </tbody>\n",
       "</table><p>"
      ],
      "text/plain": [
       "<IPython.core.display.HTML object>"
      ]
     },
     "metadata": {},
     "output_type": "display_data"
    }
   ],
   "source": [
    "trainer = transformers.Trainer(\n",
    "    model=model,\n",
    "    train_dataset=train_data,\n",
    "    eval_dataset=val_data,\n",
    "    args=training_arguments,\n",
    "    data_collator=data_collator\n",
    ")\n",
    "model.config.use_cache = False\n",
    "\n",
    "# old_state_dict = model.state_dict\n",
    "# model.state_dict = (\n",
    "#     lambda self, *_, **__: get_peft_model_state_dict(\n",
    "#         self, old_state_dict()\n",
    "#     )\n",
    "# ).__get__(model, type(model))\n",
    "\n",
    "model = torch.compile(model)\n",
    "\n",
    "trainer.train(resume_from_checkpoint=True)\n",
    "model.save_pretrained(OUTPUT_DIR)"
   ]
  },
  {
   "cell_type": "code",
   "execution_count": 10,
   "id": "3eb9d027-fa3f-474e-a937-5b196f777277",
   "metadata": {},
   "outputs": [
    {
     "data": {
      "application/vnd.jupyter.widget-view+json": {
       "model_id": "f02a3931b45546e1aec9b6d53b3d8fe4",
       "version_major": 2,
       "version_minor": 0
      },
      "text/plain": [
       "VBox(children=(HTML(value='<center> <img\\nsrc=https://huggingface.co/front/assets/huggingface_logo-noborder.sv…"
      ]
     },
     "metadata": {},
     "output_type": "display_data"
    },
    {
     "data": {
      "application/vnd.jupyter.widget-view+json": {
       "model_id": "ad748ef33195424fad51f18d048d35a5",
       "version_major": 2,
       "version_minor": 0
      },
      "text/plain": [
       "adapter_model.bin:   0%|          | 0.00/16.8M [00:00<?, ?B/s]"
      ]
     },
     "metadata": {},
     "output_type": "display_data"
    },
    {
     "data": {
      "text/plain": [
       "CommitInfo(commit_url='https://huggingface.co/bangzhao/api_enrichment_llama2_lora_popular_hour/commit/68b879fa760875dd2d81a998edc86f8f15fa5a81', commit_message='Upload model', commit_description='', oid='68b879fa760875dd2d81a998edc86f8f15fa5a81', pr_url=None, pr_revision=None, pr_num=None)"
      ]
     },
     "execution_count": 10,
     "metadata": {},
     "output_type": "execute_result"
    }
   ],
   "source": [
    "from huggingface_hub import notebook_login\n",
    " \n",
    "notebook_login()\n",
    " \n",
    "model.push_to_hub(\"bangzhao/api_enrichment_llama2_lora_popular_hour\", use_auth_token=True)"
   ]
  },
  {
   "cell_type": "markdown",
   "id": "e26e0037-f442-47e0-aa6f-93e0659c3aaa",
   "metadata": {},
   "source": [
    "## Predicting"
   ]
  },
  {
   "cell_type": "code",
   "execution_count": 11,
   "id": "33d515ce-923f-4605-9521-337285dbfaa4",
   "metadata": {},
   "outputs": [],
   "source": [
    "def generate_prompt(data_point):\n",
    "    return f\"\"\"Below is an instruction that describes a task, paired with an input that provides further context. Write a response that appropriately completes the request.  # noqa: E501\n",
    "### Instruction:\n",
    "{data_point[\"instruction\"]}\n",
    "### Input:\n",
    "{data_point[\"input\"]}\n",
    "### Response:\n",
    "\"\"\"\n",
    "\n",
    "def generate_response(prompt: str, model: PeftModel) -> GreedySearchDecoderOnlyOutput:\n",
    "    encoding = tokenizer(prompt, return_tensors=\"pt\")\n",
    "    input_ids = encoding[\"input_ids\"].to(DEVICE)\n",
    "\n",
    "    generation_config = GenerationConfig(\n",
    "        temperature=0.1,\n",
    "        top_p=0.75,\n",
    "        repetition_penalty=1.1,\n",
    "    )\n",
    "    with torch.inference_mode():\n",
    "        return model.generate(\n",
    "            input_ids=input_ids,\n",
    "            generation_config=generation_config,\n",
    "            return_dict_in_generate=True,\n",
    "            output_scores=True,\n",
    "            max_new_tokens=256,\n",
    "        )\n",
    "    \n",
    "def format_response(response: GreedySearchDecoderOnlyOutput) -> str:\n",
    "    decoded_output = tokenizer.decode(response.sequences[0])\n",
    "    response = decoded_output.split(\"### Response:\")[1].strip()\n",
    "    return \"\\n\".join(textwrap.wrap(response))\n",
    "\n",
    "def ask_alpaca(prompt: str, model: PeftModel = model) -> str:\n",
    "    prompt = generate_prompt(prompt)\n",
    "    response = generate_response(prompt, model)\n",
    "    return format_response(response)"
   ]
  },
  {
   "cell_type": "code",
   "execution_count": 12,
   "id": "11d5fee3-3c12-48aa-9726-3dcef0cd61c2",
   "metadata": {},
   "outputs": [
    {
     "data": {
      "text/plain": [
       "'Monday 08:00 to 16:00, Tuesday 08:00 to 16:00, Wednesday 08:00 to\\n16:00, Thursday 08:00 to 16:00, Friday 08:00 to 16:00</s>'"
      ]
     },
     "execution_count": 12,
     "metadata": {},
     "output_type": "execute_result"
    }
   ],
   "source": [
    "ask_alpaca(val_data[1], model)"
   ]
  },
  {
   "cell_type": "markdown",
   "id": "81fffbf7-bc04-4a82-bc62-308920b59654",
   "metadata": {},
   "source": [
    "### Load model and Lora weight"
   ]
  },
  {
   "cell_type": "code",
   "execution_count": 13,
   "id": "c4afbb2b-fd99-44a0-9774-086742cfc59b",
   "metadata": {},
   "outputs": [
    {
     "data": {
      "application/vnd.jupyter.widget-view+json": {
       "model_id": "04f32a571d914c3d93a3fa2c3ffac937",
       "version_major": 2,
       "version_minor": 0
      },
      "text/plain": [
       "Loading checkpoint shards:   0%|          | 0/2 [00:00<?, ?it/s]"
      ]
     },
     "metadata": {},
     "output_type": "display_data"
    }
   ],
   "source": [
    "BASE_MODEL = \"model/llama2-7B-hf\"\n",
    "LORA_WEIGHTS = \"model/popular_hour_lr7e-5\"\n",
    "#ORA_WEIGHTS = \"bangzhao/llama2_lora_api_enrichment_popularhour_predictor\"\n",
    "\n",
    "model = LlamaForCausalLM.from_pretrained(\n",
    "    BASE_MODEL,\n",
    "    load_in_8bit=True,\n",
    "    torch_dtype=torch.float16,\n",
    "    device_map={'': 0},\n",
    "    #ocal_files_only=True,\n",
    ")\n",
    "\n",
    "tokenizer = LlamaTokenizer.from_pretrained(BASE_MODEL)\n",
    "\n",
    "tokenizer.pad_token_id = (\n",
    "    0  # unk. we want this to be different from the eos token\n",
    ")\n",
    "tokenizer.padding_side = \"left\"\n",
    "\n",
    "\n",
    "model = PeftModel.from_pretrained(model, LORA_WEIGHTS, torch_dtype=torch.float16, device_map={'': 0})"
   ]
  },
  {
   "cell_type": "code",
   "execution_count": null,
   "id": "3bd6910a-f63c-44d0-b7fb-6629e39c8cc0",
   "metadata": {},
   "outputs": [
    {
     "name": "stdout",
     "output_type": "stream",
     "text": [
      "0.0 %\n",
      "0.55 %\n",
      "1.1 %\n",
      "1.65 %\n",
      "2.2 %\n",
      "2.75 %\n",
      "3.3 %\n",
      "3.85 %\n",
      "4.41 %\n",
      "4.96 %\n",
      "5.51 %\n",
      "6.06 %\n",
      "6.61 %\n",
      "7.16 %\n",
      "7.71 %\n",
      "8.26 %\n",
      "8.81 %\n",
      "9.36 %\n",
      "9.91 %\n",
      "10.46 %\n",
      "11.01 %\n",
      "11.56 %\n",
      "12.11 %\n",
      "12.67 %\n",
      "13.22 %\n",
      "13.77 %\n",
      "14.32 %\n",
      "14.87 %\n",
      "15.42 %\n",
      "15.97 %\n",
      "16.52 %\n",
      "17.07 %\n",
      "17.62 %\n",
      "18.17 %\n",
      "18.72 %\n",
      "19.27 %\n",
      "19.82 %\n",
      "20.37 %\n",
      "20.93 %\n",
      "21.48 %\n",
      "22.03 %\n",
      "22.58 %\n",
      "23.13 %\n",
      "23.68 %\n",
      "24.23 %\n",
      "24.78 %\n",
      "25.33 %\n",
      "25.88 %\n",
      "26.43 %\n",
      "26.98 %\n",
      "27.53 %\n",
      "28.08 %\n",
      "28.63 %\n",
      "29.19 %\n"
     ]
    }
   ],
   "source": [
    "predictions = []\n",
    "\n",
    "for idx, venue in enumerate(val_data):\n",
    "    \n",
    "    prediction = {}\n",
    "    prediction['text'] = venue['input']\n",
    "    prediction['truth'] = venue['output']\n",
    "    prediction['generated'] = ask_alpaca(venue, model)\n",
    "    \n",
    "    predictions.append(prediction)\n",
    "    \n",
    "    if idx % 5 == 0:\n",
    "        print(str(round(idx/len(val_data) * 100, 2)) + \" %\")\n",
    "    if idx % 5 == 0:\n",
    "        filename = f\"../result/popularhour_predict_name_des_cate_pri_fea_tip.json\"\n",
    "        with open(filename, \"w\") as json_file:\n",
    "            json.dump(predictions, json_file)"
   ]
  },
  {
   "cell_type": "code",
   "execution_count": null,
   "id": "56d84125-1926-472b-a59a-d1f10534562b",
   "metadata": {},
   "outputs": [],
   "source": [
    "filename = f\"../result/popularhour_predict_name_des_cate_pri_fea_tip.json\"\n",
    "with open(filename, \"w\") as json_file:\n",
    "    json.dump(predictions, json_file)"
   ]
  },
  {
   "cell_type": "code",
   "execution_count": null,
   "id": "9038a409-3a99-4f86-b86d-1bfa4119ce9a",
   "metadata": {},
   "outputs": [],
   "source": []
  }
 ],
 "metadata": {
  "kernelspec": {
   "display_name": "Python 3 (ipykernel)",
   "language": "python",
   "name": "python3"
  },
  "language_info": {
   "codemirror_mode": {
    "name": "ipython",
    "version": 3
   },
   "file_extension": ".py",
   "mimetype": "text/x-python",
   "name": "python",
   "nbconvert_exporter": "python",
   "pygments_lexer": "ipython3",
   "version": "3.9.12"
  }
 },
 "nbformat": 4,
 "nbformat_minor": 5
}
